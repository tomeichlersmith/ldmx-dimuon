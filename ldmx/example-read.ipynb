{
 "cells": [
  {
   "cell_type": "code",
   "execution_count": 1,
   "id": "fc22c55c-1088-4e6f-8805-64d9626f79b1",
   "metadata": {},
   "outputs": [],
   "source": [
    "import uproot"
   ]
  },
  {
   "cell_type": "code",
   "execution_count": 2,
   "id": "204ba33e-ebbf-4f35-9738-4754db116aaa",
   "metadata": {},
   "outputs": [],
   "source": [
    "with uproot.open('/local/cms/user/eichl008/ldmx/dimuon-calibration/beam_8gev_tagger_7600_minbrem_5000_run_0001.root') as f:\n",
    "    events = f['LDMX_Events'].arrays(\n",
    "        filter_name = [\n",
    "            'EcalSimHits**',\n",
    "            'EventHeader**',\n",
    "            'SimParticle**'\n",
    "        ]\n",
    "    )"
   ]
  },
  {
   "cell_type": "code",
   "execution_count": 3,
   "id": "b9c5c886-b65e-4096-80a5-b3b011f6e75d",
   "metadata": {},
   "outputs": [
    {
     "data": {
      "text/html": [
       "<pre>[{eventNumber_: 13, run_: 1, &#x27;timestamp_.fSec&#x27;: 1701206593, ...},\n",
       " {eventNumber_: 177, run_: 1, &#x27;timestamp_.fSec&#x27;: 1701206593, ...},\n",
       " {eventNumber_: 737, run_: 1, &#x27;timestamp_.fSec&#x27;: 1701206594, ...},\n",
       " {eventNumber_: 976, run_: 1, &#x27;timestamp_.fSec&#x27;: 1701206595, ...},\n",
       " {eventNumber_: 1032, run_: 1, &#x27;timestamp_.fSec&#x27;: 1701206595, ...},\n",
       " {eventNumber_: 1256, run_: 1, &#x27;timestamp_.fSec&#x27;: 1701206595, ...},\n",
       " {eventNumber_: 1331, run_: 1, &#x27;timestamp_.fSec&#x27;: 1701206596, ...},\n",
       " {eventNumber_: 1335, run_: 1, &#x27;timestamp_.fSec&#x27;: 1701206596, ...},\n",
       " {eventNumber_: 1364, run_: 1, &#x27;timestamp_.fSec&#x27;: 1701206596, ...},\n",
       " {eventNumber_: 1382, run_: 1, &#x27;timestamp_.fSec&#x27;: 1701206597, ...},\n",
       " ...,\n",
       " {eventNumber_: 998607, run_: 1, &#x27;timestamp_.fSec&#x27;: 1701208812, ...},\n",
       " {eventNumber_: 998708, run_: 1, &#x27;timestamp_.fSec&#x27;: 1701208812, ...},\n",
       " {eventNumber_: 999160, run_: 1, &#x27;timestamp_.fSec&#x27;: 1701208812, ...},\n",
       " {eventNumber_: 999234, run_: 1, &#x27;timestamp_.fSec&#x27;: 1701208813, ...},\n",
       " {eventNumber_: 999261, run_: 1, &#x27;timestamp_.fSec&#x27;: 1701208813, ...},\n",
       " {eventNumber_: 999327, run_: 1, &#x27;timestamp_.fSec&#x27;: 1701208813, ...},\n",
       " {eventNumber_: 999396, run_: 1, &#x27;timestamp_.fSec&#x27;: 1701208813, ...},\n",
       " {eventNumber_: 999757, run_: 1, &#x27;timestamp_.fSec&#x27;: 1701208814, ...},\n",
       " {eventNumber_: 999848, run_: 1, &#x27;timestamp_.fSec&#x27;: 1701208814, ...}]\n",
       "---------------------------------------------------------------------\n",
       "type: 6574 * {\n",
       "    eventNumber_: int32,\n",
       "    run_: int32,\n",
       "    &quot;timestamp_.fSec&quot;: int32,\n",
       "    &quot;timestamp_.fNanoSec&quot;: int32,\n",
       "    weight_: float64,\n",
       "    isRealData_: bool,\n",
       "    &quot;intParameters_.first&quot;: var * string,\n",
       "    &quot;intParameters_.second&quot;: var * int32,\n",
       "    &quot;floatParameters_.first&quot;: var * string,\n",
       "    &quot;floatParameters_.second&quot;: var * float32,\n",
       "    &quot;stringParameters_.first&quot;: var * string,\n",
       "    &quot;stringParameters_.second&quot;: var * string,\n",
       "    &quot;SimParticles_dimuon.first&quot;: var * int32,\n",
       "    &quot;SimParticles_dimuon.second.energy_&quot;: var * float64,\n",
       "    &quot;SimParticles_dimuon.second.pdgID_&quot;: var * int32,\n",
       "    &quot;SimParticles_dimuon.second.genStatus_&quot;: var * int32,\n",
       "    &quot;SimParticles_dimuon.second.time_&quot;: var * float64,\n",
       "    &quot;SimParticles_dimuon.second.x_&quot;: var * float64,\n",
       "    &quot;SimParticles_dimuon.second.y_&quot;: var * float64,\n",
       "    &quot;SimParticles_dimuon.second.z_&quot;: var * float64,\n",
       "    &quot;SimParticles_dimuon.second.endX_&quot;: var * float64,\n",
       "    &quot;SimParticles_dimuon.second.endY_&quot;: var * float64,\n",
       "    &quot;SimParticles_dimuon.second.endZ_&quot;: var * float64,\n",
       "    &quot;SimParticles_dimuon.second.px_&quot;: var * float64,\n",
       "    &quot;SimParticles_dimuon.second.py_&quot;: var * float64,\n",
       "    &quot;SimParticles_dimuon.second.pz_&quot;: var * float64,\n",
       "    &quot;SimParticles_dimuon.second.endpx_&quot;: var * float64,\n",
       "    &quot;SimParticles_dimuon.second.endpy_&quot;: var * float64,\n",
       "    &quot;SimParticles_dimuon.second.endpz_&quot;: var * float64,\n",
       "    &quot;SimParticles_dimuon.second.mass_&quot;: var * float64,\n",
       "    &quot;SimParticles_dimuon.second.charge_&quot;: var * float64,\n",
       "    &quot;SimParticles_dimuon.second.daughters_&quot;: var * var * int32,\n",
       "    &quot;SimParticles_dimuon.second.parents_&quot;: var * var * int32,\n",
       "    &quot;SimParticles_dimuon.second.processType_&quot;: var * int32,\n",
       "    &quot;SimParticles_dimuon.second.vertexVolume_&quot;: var * string,\n",
       "    &quot;EcalSimHits_dimuon.id_&quot;: var * int32,\n",
       "    &quot;EcalSimHits_dimuon.edep_&quot;: var * float32,\n",
       "    &quot;EcalSimHits_dimuon.x_&quot;: var * float32,\n",
       "    &quot;EcalSimHits_dimuon.y_&quot;: var * float32,\n",
       "    &quot;EcalSimHits_dimuon.z_&quot;: var * float32,\n",
       "    &quot;EcalSimHits_dimuon.time_&quot;: var * float32,\n",
       "    &quot;EcalSimHits_dimuon.trackIDContribs_&quot;: var * var * int32,\n",
       "    &quot;EcalSimHits_dimuon.incidentIDContribs_&quot;: var * var * int32,\n",
       "    &quot;EcalSimHits_dimuon.pdgCodeContribs_&quot;: var * var * int32,\n",
       "    &quot;EcalSimHits_dimuon.edepContribs_&quot;: var * var * float32,\n",
       "    &quot;EcalSimHits_dimuon.timeContribs_&quot;: var * var * float32,\n",
       "    &quot;EcalSimHits_dimuon.nContribs_&quot;: var * uint32,\n",
       "    &quot;EcalSimHits_dimuon.pathLength_&quot;: var * float32,\n",
       "    &quot;EcalSimHits_dimuon.preStepX_&quot;: var * float32,\n",
       "    &quot;EcalSimHits_dimuon.preStepY_&quot;: var * float32,\n",
       "    &quot;EcalSimHits_dimuon.preStepZ_&quot;: var * float32,\n",
       "    &quot;EcalSimHits_dimuon.preStepTime_&quot;: var * float32,\n",
       "    &quot;EcalSimHits_dimuon.postStepX_&quot;: var * float32,\n",
       "    &quot;EcalSimHits_dimuon.postStepY_&quot;: var * float32,\n",
       "    &quot;EcalSimHits_dimuon.postStepZ_&quot;: var * float32,\n",
       "    &quot;EcalSimHits_dimuon.postStepTime_&quot;: var * float32,\n",
       "    &quot;EcalSimHits_dimuon.velocity_&quot;: var * float32\n",
       "}</pre>"
      ],
      "text/plain": [
       "<Array [{eventNumber_: 13, ...}, ..., {...}] type='6574 * {eventNumber_: in...'>"
      ]
     },
     "execution_count": 3,
     "metadata": {},
     "output_type": "execute_result"
    }
   ],
   "source": [
    "events"
   ]
  },
  {
   "cell_type": "code",
   "execution_count": null,
   "id": "24dfe734-8d33-4687-845d-242e24e53c2c",
   "metadata": {},
   "outputs": [],
   "source": []
  }
 ],
 "metadata": {
  "kernelspec": {
   "display_name": "Python 3 (ipykernel)",
   "language": "python",
   "name": "python3"
  },
  "language_info": {
   "codemirror_mode": {
    "name": "ipython",
    "version": 3
   },
   "file_extension": ".py",
   "mimetype": "text/x-python",
   "name": "python",
   "nbconvert_exporter": "python",
   "pygments_lexer": "ipython3",
   "version": "3.12.0"
  }
 },
 "nbformat": 4,
 "nbformat_minor": 5
}
